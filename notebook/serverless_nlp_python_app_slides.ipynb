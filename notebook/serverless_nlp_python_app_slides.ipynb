{
 "cells": [
  {
   "cell_type": "markdown",
   "id": "c7a80670",
   "metadata": {
    "slideshow": {
     "slide_type": "slide"
    }
   },
   "source": [
    "<img src=\"../docs/images/FirstSlide.png\" alt=\"Build a Replicable Serverless Python NLP App from Scratch\" width=\"1000\" />"
   ]
  },
  {
   "cell_type": "markdown",
   "id": "32aea56a",
   "metadata": {
    "slideshow": {
     "slide_type": "subslide"
    }
   },
   "source": [
    "## Table of Contents\n",
    "\n",
    "- I. **Introduction**\n",
    "- II. **The NLP Pipeline**\n",
    "- III. **Infrastructure Provisioning Workflow**\n",
    "- IV. **Conclusion**\n",
    "\n",
    "<br>\n",
    "<br>\n",
    "<img src=\"../docs/images/footer_logo.png\" alt=\"tcin logo\" style=\"width:1200px;height:40px;\">"
   ]
  },
  {
   "cell_type": "markdown",
   "id": "e9416dd8",
   "metadata": {
    "slideshow": {
     "slide_type": "slide"
    }
   },
   "source": [
    "<h1 align=\"center\"> I. Introduction </h1>\n",
    "\n",
    "- What is our Goal?\n",
    "- Motivation for the Talk\n",
    "- Why AWS CLI\n",
    "- Why Taskfiles\n",
    "- GitHub Codes supporting this talk\n",
    "\n",
    "\n",
    "<br>\n",
    "<br>\n",
    "<img src=\"../docs/images/footer_logo.png\" alt=\"tcin logo\" style=\"width:1200px;height:40px;\">"
   ]
  },
  {
   "cell_type": "markdown",
   "id": "fd28cb45",
   "metadata": {
    "slideshow": {
     "slide_type": "slide"
    }
   },
   "source": [
    "<h2 align=\"center\"> What is our Goal?</h2>\n",
    "\n",
    "> **Automation in infrastructure provisioning** is key to reducing the development time. <br>No one else can do this better than a developer so that DevOps engineer does less heavy-lifting at the time-crunched release window period\n",
    "\n",
    "\n",
    "- Create Infrastructure provisioning codes as & when you write your application development codes\n",
    "- Make every small configuration component of your provisioned services traceable, and version-controlled\n",
    "\n",
    "\n",
    "<br>\n",
    "<br>\n",
    "<img src=\"../docs/images/footer_logo.png\" alt=\"tcin logo\" style=\"width:1200px;height:40px;\">"
   ]
  },
  {
   "cell_type": "markdown",
   "id": "cfc7b1d1",
   "metadata": {
    "slideshow": {
     "slide_type": "subslide"
    }
   },
   "source": [
    "In this talk, we will ... <br>\n",
    "> Cover how to build a Python NLP App in Cloud using **replicable infrastructure provisioning codes**"
   ]
  },
  {
   "cell_type": "markdown",
   "id": "ffefdd59",
   "metadata": {
    "slideshow": {
     "slide_type": "fragment"
    }
   },
   "source": [
    "> Give transferable learnings on building **Serverless Apps in any cloud infra** (here, AWS Cloud infra is chosen). "
   ]
  },
  {
   "cell_type": "markdown",
   "id": "69657b35",
   "metadata": {
    "slideshow": {
     "slide_type": "fragment"
    }
   },
   "source": [
    "> Be using a combination of **CLI commands and Yaml Taskfiles** to provision the AWS Infrastructure. \n",
    "\n",
    "\n",
    "<br>\n",
    "<br>\n",
    "<img src=\"../docs/images/footer_logo.png\" alt=\"tcin logo\" style=\"width:1200px;height:40px;\">"
   ]
  },
  {
   "cell_type": "markdown",
   "id": "cc18eaa7",
   "metadata": {
    "slideshow": {
     "slide_type": "subslide"
    }
   },
   "source": [
    "#### **What is in it for you?**\n",
    "By the end of this talk, a developer will \n",
    "- start loving the potent combination of [AWS CLI](https://docs.aws.amazon.com/cli/latest/userguide/getting-started-install.html) + [Taskfile](https://taskfile.dev/installation/) for provisioning replicable cloud infrastructure"
   ]
  },
  {
   "cell_type": "markdown",
   "id": "af01d4a1",
   "metadata": {
    "slideshow": {
     "slide_type": "fragment"
    }
   },
   "source": [
    "- understand how this AWS CLI approach helps in-depth understanding of the cloud Services employed"
   ]
  },
  {
   "cell_type": "markdown",
   "id": "bdb7545c",
   "metadata": {
    "slideshow": {
     "slide_type": "fragment"
    }
   },
   "source": [
    "- reduce the \"hell month\" for DevOps Engineers during releases (refer [adopting DevOps mindset](https://stackoverflow.blog/2020/06/10/the-rise-of-the-devops-mindset/)) \n",
    "\n",
    "<br>\n",
    "<br>\n",
    "<img src=\"../docs/images/footer_logo.png\" alt=\"tcin logo\" style=\"width:1200px;height:40px;\">"
   ]
  },
  {
   "cell_type": "markdown",
   "id": "00f4616b",
   "metadata": {
    "slideshow": {
     "slide_type": "slide"
    }
   },
   "source": [
    "<h2 align=\"center\"> Motivation for the Talk </h2>\n",
    "\n",
    "- Is DevOps an afterthought for a developer? \n",
    "- Does a developer have the same rigor in `application code development` applied to their `infrastructure provisioning codes`? \n",
    "\n",
    "<img src=\"../docs/images/devops_mindset.png\" alt=\"DeveOps Mindset\" width=\"500\" />\n",
    "<h5 align=\"center\">Image Source: https://modelthinkers.com/mental-model/devops-mindset </h5>\n",
    "\n",
    "<img src=\"../docs/images/footer_logo.png\" alt=\"tcin logo\" style=\"width:1200px;height:40px;\">"
   ]
  },
  {
   "cell_type": "markdown",
   "id": "2986938a",
   "metadata": {
    "slideshow": {
     "slide_type": "subslide"
    }
   },
   "source": [
    "#### Why Dev needs to adopt DevOps Principles \n",
    "\n",
    "- More nimble & responsive product delivery !\n",
    "\n",
    "> The right DevOps culture ultimately makes you deliver better products faster. <br>\n",
    "\n",
    "<h5 align=\"center\">Source: https://stackoverflow.blog/2020/06/10/the-rise-of-the-devops-mindset/ </h5>\n",
    "\n",
    "\n",
    "> “It is not the strongest of the species that survive, nor the most intelligent, but the one most responsive to change.”\n",
    "> Charles Darwin\n",
    "\n",
    "<h5 align=\"center\">Source: https://faun.pub/some-popular-devops-quotes-and-what-i-learned-from-it-using-in-my-day-to-day-development-7b299ced7884 </h5>\n",
    "\n",
    "\n",
    "<br>\n",
    "<br>\n",
    "<img src=\"../docs/images/footer_logo.png\" alt=\"tcin logo\" style=\"width:1200px;height:40px;\">"
   ]
  },
  {
   "cell_type": "markdown",
   "id": "72a17673",
   "metadata": {
    "slideshow": {
     "slide_type": "slide"
    }
   },
   "source": [
    "<h2 align=\"center\"> Why AWS CLI? </h2>\n",
    "\n",
    "The reason why we chose AWS CLI is that <br>\n",
    "- it is a unified interface to all AWS services and\n",
    "- it mimics the console way of creating AWS services with the right* level of abstraction\n",
    "    - meaning, you have control over the CRUD operations \n",
    "- it is not different from a traditional bash commands that we are highly familiar with\n",
    "\n",
    "*arguable personal opinion \n",
    "\n",
    "\n",
    "<br>\n",
    "<br>\n",
    "<img src=\"../docs/images/footer_logo.png\" alt=\"tcin logo\" style=\"width:1200px;height:40px;\">"
   ]
  },
  {
   "cell_type": "markdown",
   "id": "1cb4c1c6",
   "metadata": {
    "slideshow": {
     "slide_type": "subslide"
    }
   },
   "source": [
    "\n",
    "- What you give in arguments is what is provisioned for you !\n",
    "\n",
    "```bash\n",
    "/path/where/lambda_codes/located % cat aws_cli_command_for_lambda_creation.bash\n",
    "#!/bin/bash\n",
    "aws lambda create-function \\\n",
    "--function-name $1 \\\n",
    "--zip-file fileb://${1}.zip \\\n",
    "--runtime python3.8 \\\n",
    "--role $2 \\\n",
    "--handler lambda_function.lambda_handler \\\n",
    "--timeout 60 \\\n",
    "--memory-size 256 \\\n",
    "--layers $3 \\\n",
    "--architectures x86_64 \n",
    "```"
   ]
  },
  {
   "cell_type": "markdown",
   "id": "6eec837f",
   "metadata": {
    "slideshow": {
     "slide_type": "fragment"
    }
   },
   "source": [
    "\n",
    "- And, it gets executed with a just `task <task_name>`\n",
    "\n",
    "```bash\n",
    "/path/where/lambda_codes/located % cat Taskfile.yml \n",
    "...\n",
    "...\n",
    "tasks:\n",
    "  create_lambda_name:\n",
    "    cmds:\n",
    "      - zip -r ${LAMBDA_FUNCTION_NAME}.zip lambda_function.py\n",
    "      - bash aws_cli_command_for_lambda_creation.bash $LAMBDA_FUNCTION_NAME $IAM_ROLE_ARN $SPACY_LAYER\n",
    "```\n",
    "<img src=\"../docs/images/footer_logo.png\" alt=\"tcin logo\" style=\"width:1200px;height:40px;\">"
   ]
  },
  {
   "cell_type": "markdown",
   "id": "3825c7b0",
   "metadata": {
    "slideshow": {
     "slide_type": "subslide"
    }
   },
   "source": [
    "<h2 align=\"center\"> Why Taskfiles? </h2>\n",
    "\n",
    "- The Taskfiles make the execution of steps so easy. You could repeat it multiple times for various projects.\n",
    "\n",
    "```bash\n",
    "# how to create IAM policy and roles\n",
    "/path/where/IAM_Taskfile/is/located/ % task create_policy && task create_role && task attach_role_to_policy\n",
    "\n",
    "# how lambda function is created\n",
    "/path/where/LAMBDA_Taskfile/is/located/ % task create_lambda_name && task update_lambda_environment\n",
    "\n",
    "# how to test the lambda\n",
    "/path/where/Testing_Taskfile/is/located/ % task run_test_event_1 \n",
    "\n",
    "{\n",
    "    \"StatusCode\": 200, \"ExecutedVersion\": \"$LATEST\"\n",
    "},\n",
    "{\n",
    "  \"output_bucket_name\": \"pycon-$USER-nlp-output-bkt\", \"file_key\": \"email_1.txt\",\n",
    "  \"message\": \"PII Redaction Pipeline worked successfully\"\n",
    "}\n",
    "```\n",
    "\n",
    "<img src=\"../docs/images/footer_logo.png\" alt=\"tcin logo\" style=\"width:1200px;height:40px;\">"
   ]
  },
  {
   "cell_type": "markdown",
   "id": "e481a46b",
   "metadata": {
    "slideshow": {
     "slide_type": "subslide"
    }
   },
   "source": [
    "\n",
    "\n",
    "**Alternate Options**: \n",
    "- As a developer you could also choose other modes of creation of Cloud Services such as [AWS CDK](https://docs.aws.amazon.com/cdk/v2/guide/getting_started.html), [AWS CloudFormation](https://aws.amazon.com/cloudformation/getting-started/) and [AWS Terraform](https://github.com/terraform-aws-modules) and others.\n",
    "    - There is a bit of a learning curve involved in all the above frameworks. \n",
    "- Want to know more about AWS Toolkits? Refer [aws-toolkit-aws-cli-sdk-and-cdk-6feab9e746b8](https://aws.plainenglish.io/aws-toolkit-aws-cli-sdk-and-cdk-6feab9e746b8) \n",
    "\n",
    "\n",
    "<br>\n",
    "<br>\n",
    "<img src=\"../docs/images/footer_logo.png\" alt=\"tcin logo\" style=\"width:1200px;height:40px;\">"
   ]
  },
  {
   "cell_type": "markdown",
   "id": "5f24edba",
   "metadata": {
    "slideshow": {
     "slide_type": "slide"
    }
   },
   "source": [
    "<h1 align=\"center\"> Link to the GitHub Code</h1>\n",
    "\n",
    "<div style=\"text-align: center;\">\n",
    "<img src=\"https://github.githubassets.com/images/modules/logos_page/GitHub-Mark.png\" alt=\"https://github.com/Toyota-Connected-India/serverless_nlp_app\" width=\"100\" />\n",
    "</div>\n",
    "\n",
    "---\n",
    "\n",
    "\n",
    "<h3 align=\"center\"> https://github.com/Toyota-Connected-India/serverless_nlp_app </h3>\n",
    "\n",
    "<br>\n",
    "\n",
    "---\n",
    "\n",
    "<br>\n",
    "<br>\n",
    "<img src=\"../docs/images/footer_logo.png\" alt=\"tcin logo\" style=\"width:1200px;height:40px;\">"
   ]
  },
  {
   "cell_type": "markdown",
   "id": "77421a8c",
   "metadata": {
    "slideshow": {
     "slide_type": "slide"
    }
   },
   "source": [
    "<h1 align=\"center\"> II. The NLP Pipeline </h1>\n",
    "\n",
    "- Goal of the NLP Pipeline\n",
    "- Sample Input and Output\n",
    "- Pipeline Architecture\n",
    "- Workflow of the Pipeline `Tasks`\n",
    "\n",
    "\n",
    "<br>\n",
    "<br>\n",
    "<img src=\"../docs/images/footer_logo.png\" alt=\"tcin logo\" style=\"width:1200px;height:40px;\">"
   ]
  },
  {
   "cell_type": "markdown",
   "id": "fd596d61",
   "metadata": {
    "slideshow": {
     "slide_type": "subslide"
    }
   },
   "source": [
    "\n",
    "Broadly, there are two major types of NLP Pipelines: \n",
    "1. **NLP Pipeline in ML World**: Text pre-processing >> Feature Embeddings >> Model Training and Prediction on Numericalized Embeddings \n",
    "2. **NLP Pipeline in Data Engineering World**: Transforming raw text data into useful outputs in a sequence of steps.\n",
    "\n",
    "If an NLP Pipeline could be defined in above 2 major ways, the second definition of Data Engineering based pipeline, is what we will accomplish in this talk.\n",
    "\n",
    "\n",
    "<br>\n",
    "<br>\n",
    "<img src=\"../docs/images/footer_logo.png\" alt=\"tcin logo\" style=\"width:1200px;height:40px;\">"
   ]
  },
  {
   "cell_type": "markdown",
   "id": "dce6cf99",
   "metadata": {
    "slideshow": {
     "slide_type": "slide"
    }
   },
   "source": [
    "<h1 align=\"center\"> Goal of the NLP Pipeline </h1>\n",
    "\n",
    "- The pipeline will be capable of redacting sensitive information such as email addresses, phone numbers, and names (PII) from email bodies. \n",
    "\t- We will use examples from Enron Email data to test the pipeline.\n",
    "    \n",
    "<br>\n",
    "<br>\n",
    "<img src=\"../docs/images/footer_logo.png\" alt=\"tcin logo\" style=\"width:1200px;height:40px;\">"
   ]
  },
  {
   "cell_type": "markdown",
   "id": "36ff467a",
   "metadata": {
    "slideshow": {
     "slide_type": "slide"
    }
   },
   "source": [
    "<h1 align=\"center\"> Pipeline Architecture </h1>\n",
    "\n",
    "\n",
    "<img src=\"../docs/images/pii_redaction_pipeline_architecture.png\" alt=\"Pipeline Architecture\" width=\"700\" />\n",
    "\n",
    "Note: This pipeline is intentionally made simple. Real-world Serverless Pipelines could be much more complex\n",
    "\n",
    "<br>\n",
    "<img src=\"../docs/images/footer_logo.png\" alt=\"tcin logo\" style=\"width:1200px;height:40px;\">"
   ]
  },
  {
   "cell_type": "markdown",
   "id": "0962e255",
   "metadata": {
    "slideshow": {
     "slide_type": "slide"
    }
   },
   "source": [
    "<h1 align=\"center\"> Sample Input and Output </h1>\n",
    "\n",
    "\n",
    "### Sample Input \n",
    "\n",
    "<img src=\"../docs/images/email_1.png\" alt=\"Input\" width=\"400\" />\n",
    "\n",
    "\n",
    "<br>\n",
    "<br>\n",
    "<img src=\"../docs/images/footer_logo.png\" alt=\"tcin logo\" style=\"width:1200px;height:40px;\">"
   ]
  },
  {
   "cell_type": "markdown",
   "id": "d6fa3ced",
   "metadata": {
    "slideshow": {
     "slide_type": "subslide"
    }
   },
   "source": [
    "### Output of Simple Lambda (phone and email redacted)\n",
    "\n",
    "<img src=\"../docs/images/email_1_intermediary_output.png\" alt=\"Input\" width=\"400\" />\n",
    "\n",
    "<br>\n",
    "<br>\n",
    "<img src=\"../docs/images/footer_logo.png\" alt=\"tcin logo\" style=\"width:1200px;height:40px;\">"
   ]
  },
  {
   "cell_type": "markdown",
   "id": "ecf48cb1",
   "metadata": {
    "slideshow": {
     "slide_type": "subslide"
    }
   },
   "source": [
    "### Output of Layer Lambda (names redacted)\n",
    "\n",
    "<img src=\"../docs/images/email_1_final_output.png\" alt=\"Input\" width=\"400\" />\n",
    "\n",
    "<br>\n",
    "<br>\n",
    "<img src=\"../docs/images/footer_logo.png\" alt=\"tcin logo\" style=\"width:1200px;height:40px;\">"
   ]
  },
  {
   "cell_type": "markdown",
   "id": "050c7bb3",
   "metadata": {
    "slideshow": {
     "slide_type": "slide"
    }
   },
   "source": [
    "<h1 align=\"center\"> Workflow of  the Tasks  </h1>\n",
    "\n",
    "\n",
    "#### 1. Setting up S3 Buckets\n",
    "\n",
    "\t- Create the S3 Trigger bucket (s3_1 in pic), intermediary S3 bucket and Output S3 Bucket (s3_2 in pic) \n",
    "<br>\n",
    "\n",
    "[GitHub Codes Reference](https://github.com/Toyota-Connected-India/serverless_nlp_app/blob/master/src/aws/1.create_s3_buckets/Taskfile.yml)\n",
    "\n",
    "<hr>\n",
    "\n",
    "#### 2. Create a \"Simple Lambda\"\n",
    "\t- With no special/ extra packages, in a standard Py3.8 lambda env, \n",
    "\t\t- create a lambda that replaces Phone and Email and \n",
    "\t\t- test it with a sample csv file\n",
    "<br>[GitHub Codes Reference](https://github.com/Toyota-Connected-India/serverless_nlp_app/tree/master/src/aws/3.stepfunctions_pipeline/b.lambda_codes/simple_lambda)\n",
    "\n",
    "<hr>\n",
    "\n",
    "<br>\n",
    "<br>\n",
    "<img src=\"../docs/images/footer_logo.png\" alt=\"tcin logo\" style=\"width:1200px;height:40px;\">"
   ]
  },
  {
   "cell_type": "markdown",
   "id": "5d1162b1",
   "metadata": {
    "slideshow": {
     "slide_type": "subslide"
    }
   },
   "source": [
    "\n",
    "#### 3. Create a \"Layer Lambda\" \n",
    "\n",
    "- 3.A. Create a Spacy Layer inside a `amazon/aws-lambda-python:3.8` and publish as a layer\n",
    "- 3.B. Create a \"Layer Lambda\" that identifies & replaces names using a SpaCy pre-trained model \n",
    "\n",
    "[GitHub Codes Reference](https://github.com/Toyota-Connected-India/serverless_nlp_app/tree/master/src/aws/3.stepfunctions_pipeline/b.lambda_codes/layer_lambda)\n",
    "\n",
    "<hr>\n",
    "\n",
    "#### 4. Create a StepFunctions Pipeline\n",
    "\n",
    "- 4.A. Create a Stepfunctions State Machine Json | [GitHub Codes Reference](https://github.com/Toyota-Connected-India/serverless_nlp_app/tree/master/src/aws/3.stepfunctions_pipeline/a.create_iam_role_policy_state_machine)\n",
    "- 4.B. Create a StepFunctions Invoke Lambda and Test it | [GitHub Codes Reference](https://github.com/Toyota-Connected-India/serverless_nlp_app/tree/master/src/aws/2.stepfunctions_invoke_lambda)\n",
    "\n",
    "<hr>\n",
    "\n",
    "<br>\n",
    "<br>\n",
    "<img src=\"../docs/images/footer_logo.png\" alt=\"tcin logo\" style=\"width:1200px;height:40px;\">"
   ]
  },
  {
   "cell_type": "markdown",
   "id": "43401a2b",
   "metadata": {
    "slideshow": {
     "slide_type": "subslide"
    }
   },
   "source": [
    "#### 5.Test the Whole Pipeline with a simple task command\n",
    "\n",
    "```bash\n",
    "# set up the temporary AWS credentials\n",
    "## task executes the task from `Taskfile.yml` in the `/path/to/serverless_nlp_app`\n",
    "/path/to/serverless_nlp_app/src/aws/2.stepfunctions_invoke_lambda/c.testing  % task run_test_event_1\n",
    "```\n",
    "[GitHub Codes Reference](https://github.com/Toyota-Connected-India/serverless_nlp_app/blob/master/src/aws/2.stepfunctions_invoke_lambda/c.testing/Taskfile.yml)\n",
    "\n",
    "<hr>\n",
    "\n",
    "<br>\n",
    "<br>\n",
    "<img src=\"../docs/images/footer_logo.png\" alt=\"tcin logo\" style=\"width:1200px;height:40px;\">"
   ]
  },
  {
   "cell_type": "markdown",
   "id": "9a2ac494",
   "metadata": {
    "slideshow": {
     "slide_type": "slide"
    }
   },
   "source": [
    "\n",
    "<h1 align=\"center\"> III. Infrastructure Provisioning Workflow  </h1>\n",
    "\n",
    "<br>\n",
    "<br>\n",
    "<img src=\"../docs/images/footer_logo.png\" alt=\"tcin logo\" style=\"width:1200px;height:40px;\">"
   ]
  },
  {
   "cell_type": "markdown",
   "id": "3f5b46e5",
   "metadata": {
    "slideshow": {
     "slide_type": "subslide"
    }
   },
   "source": [
    "<img src=\"../docs/images/Taskfile_Workflow_Layer_Lambda_Example.png\" alt=\"Taskfile Workflow\" width=\"700\"/>\n",
    "\n",
    "<br>\n",
    "<br>\n",
    "<img src=\"../docs/images/footer_logo.png\" alt=\"tcin logo\" style=\"width:1200px;height:40px;\">"
   ]
  },
  {
   "cell_type": "markdown",
   "id": "b0f9cd9d",
   "metadata": {
    "slideshow": {
     "slide_type": "subslide"
    }
   },
   "source": [
    "### Sample IAM `Taskfile.yml`\n",
    "\n",
    "<img src=\"../docs/images/Taskfile_IAM_creation.png\" alt=\"IAM Taskfile\" width=\"500\" />\n",
    "\n",
    "<img src=\"../docs/images/footer_logo.png\" alt=\"tcin logo\" style=\"width:1200px;height:40px;\">"
   ]
  },
  {
   "cell_type": "markdown",
   "id": "763e56c9",
   "metadata": {
    "slideshow": {
     "slide_type": "subslide"
    }
   },
   "source": [
    "### Sample Lambda `Taskfile.yml`\n",
    "\n",
    "<img src=\"../docs/images/Taskfile_Lambda_creation.png\" alt=\"Lambda Taskfile\" width=\"600\"/>\n",
    "\n",
    "<br>\n",
    "<br>\n",
    "<img src=\"../docs/images/footer_logo.png\" alt=\"tcin logo\" style=\"width:1200px;height:40px;\">"
   ]
  },
  {
   "cell_type": "markdown",
   "id": "50f6440c",
   "metadata": {
    "slideshow": {
     "slide_type": "slide"
    }
   },
   "source": [
    "<h1 align=\"center\"> IV. Conclusion </h1>\n",
    "\n",
    "- Treat your infrastructure provisioning codes with the same rigor as your application development codes. \n",
    "    - This is getting easier with `AWS CLI` + `Taskfile.yml` approach \n",
    "- As many companies adopt a cloud-first approach, ensuring its developers have a `DevOps Mindset` ensures better software development cycle\n",
    "\n",
    "\n",
    "<br>\n",
    "<br>\n",
    "<img src=\"../docs/images/footer_logo.png\" alt=\"tcin logo\" style=\"width:1200px;height:40px;\">"
   ]
  },
  {
   "cell_type": "markdown",
   "id": "7d251cbc",
   "metadata": {
    "slideshow": {
     "slide_type": "slide"
    }
   },
   "source": [
    "<h1 align=\"center\"> Appendix: Link to the GitHub codes </h1>\n",
    "\n",
    "<div style=\"text-align: center;\">\n",
    "<img src=\"https://github.githubassets.com/images/modules/logos_page/GitHub-Mark.png\" alt=\"https://github.com/Toyota-Connected-India/serverless_nlp_app\" width=\"100\" />\n",
    "</div>\n",
    "\n",
    "---\n",
    "\n",
    "\n",
    "<h3 align=\"center\"> https://github.com/Toyota-Connected-India/serverless_nlp_app </h3>\n",
    "\n",
    "<br>\n",
    "\n",
    "---\n",
    "\n",
    "<br>\n",
    "<br>\n",
    "<img src=\"../docs/images/footer_logo.png\" alt=\"tcin logo\" style=\"width:1200px;height:40px;\">"
   ]
  },
  {
   "cell_type": "code",
   "execution_count": 25,
   "id": "960320e9",
   "metadata": {
    "slideshow": {
     "slide_type": "skip"
    }
   },
   "outputs": [
    {
     "name": "stdout",
     "output_type": "stream",
     "text": [
      "[NbConvertApp] Converting notebook serverless_nlp_python_app_slides.ipynb to slides\n",
      "[NbConvertApp] Writing 609493 bytes to serverless_nlp_python_app_slides.slides.html\n"
     ]
    }
   ],
   "source": [
    "!jupyter nbconvert serverless_nlp_python_app_slides.ipynb --to slides"
   ]
  },
  {
   "cell_type": "code",
   "execution_count": null,
   "id": "4b4f7b26",
   "metadata": {
    "slideshow": {
     "slide_type": "skip"
    }
   },
   "outputs": [],
   "source": []
  }
 ],
 "metadata": {
  "celltoolbar": "Slideshow",
  "kernelspec": {
   "display_name": "Python 3 (ipykernel)",
   "language": "python",
   "name": "python3"
  },
  "language_info": {
   "codemirror_mode": {
    "name": "ipython",
    "version": 3
   },
   "file_extension": ".py",
   "mimetype": "text/x-python",
   "name": "python",
   "nbconvert_exporter": "python",
   "pygments_lexer": "ipython3",
   "version": "3.9.13"
  }
 },
 "nbformat": 4,
 "nbformat_minor": 5
}
